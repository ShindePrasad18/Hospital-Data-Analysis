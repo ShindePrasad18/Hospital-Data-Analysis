{
 "cells": [
  {
   "cell_type": "code",
   "execution_count": 1,
   "id": "eb03e760-3436-48e0-9654-da043689d2d5",
   "metadata": {},
   "outputs": [],
   "source": [
    "import pandas as pd\n",
    "import matplotlib.pyplot as plt\n",
    "import seaborn as sns\n",
    "import numpy as np"
   ]
  },
  {
   "cell_type": "code",
   "execution_count": 2,
   "id": "01e96d8d-6430-46f2-83e4-0bdd35dd660b",
   "metadata": {},
   "outputs": [
    {
     "data": {
      "text/html": [
       "<div>\n",
       "<style scoped>\n",
       "    .dataframe tbody tr th:only-of-type {\n",
       "        vertical-align: middle;\n",
       "    }\n",
       "\n",
       "    .dataframe tbody tr th {\n",
       "        vertical-align: top;\n",
       "    }\n",
       "\n",
       "    .dataframe thead th {\n",
       "        text-align: right;\n",
       "    }\n",
       "</style>\n",
       "<table border=\"1\" class=\"dataframe\">\n",
       "  <thead>\n",
       "    <tr style=\"text-align: right;\">\n",
       "      <th></th>\n",
       "      <th>PatientID</th>\n",
       "      <th>PatientNumber</th>\n",
       "      <th>FirstName</th>\n",
       "      <th>LastName</th>\n",
       "      <th>Email</th>\n",
       "      <th>PatientGender</th>\n",
       "      <th>PatientAge</th>\n",
       "      <th>City</th>\n",
       "      <th>State</th>\n",
       "    </tr>\n",
       "  </thead>\n",
       "  <tbody>\n",
       "    <tr>\n",
       "      <th>0</th>\n",
       "      <td>4691824</td>\n",
       "      <td>21385921</td>\n",
       "      <td>Paul</td>\n",
       "      <td>Hill</td>\n",
       "      <td>paul.hill@datacourse.com</td>\n",
       "      <td>Male</td>\n",
       "      <td>67</td>\n",
       "      <td>Longview</td>\n",
       "      <td>MA</td>\n",
       "    </tr>\n",
       "    <tr>\n",
       "      <th>1</th>\n",
       "      <td>4691826</td>\n",
       "      <td>21388616</td>\n",
       "      <td>Sally</td>\n",
       "      <td>Bailey</td>\n",
       "      <td>sally.bailey@datacourse.com</td>\n",
       "      <td>Female</td>\n",
       "      <td>49</td>\n",
       "      <td>Storms</td>\n",
       "      <td>TX</td>\n",
       "    </tr>\n",
       "    <tr>\n",
       "      <th>2</th>\n",
       "      <td>4691864</td>\n",
       "      <td>21382372</td>\n",
       "      <td>Richard</td>\n",
       "      <td>Buckland</td>\n",
       "      <td>richard.buckland@datacourse.com</td>\n",
       "      <td>Male</td>\n",
       "      <td>74</td>\n",
       "      <td>Emerson</td>\n",
       "      <td>MT</td>\n",
       "    </tr>\n",
       "    <tr>\n",
       "      <th>3</th>\n",
       "      <td>4691983</td>\n",
       "      <td>21372544</td>\n",
       "      <td>Matt</td>\n",
       "      <td>Welch</td>\n",
       "      <td>matt.welch@datacourse.com</td>\n",
       "      <td>Male</td>\n",
       "      <td>80</td>\n",
       "      <td>Farmington Lake</td>\n",
       "      <td>OK</td>\n",
       "    </tr>\n",
       "    <tr>\n",
       "      <th>4</th>\n",
       "      <td>4692047</td>\n",
       "      <td>21385830</td>\n",
       "      <td>Zoe</td>\n",
       "      <td>Tucker</td>\n",
       "      <td>zoe.tucker@datacourse.com</td>\n",
       "      <td>Female</td>\n",
       "      <td>16</td>\n",
       "      <td>Storms</td>\n",
       "      <td>TX</td>\n",
       "    </tr>\n",
       "    <tr>\n",
       "      <th>...</th>\n",
       "      <td>...</td>\n",
       "      <td>...</td>\n",
       "      <td>...</td>\n",
       "      <td>...</td>\n",
       "      <td>...</td>\n",
       "      <td>...</td>\n",
       "      <td>...</td>\n",
       "      <td>...</td>\n",
       "      <td>...</td>\n",
       "    </tr>\n",
       "    <tr>\n",
       "      <th>5112</th>\n",
       "      <td>6230138</td>\n",
       "      <td>21360210</td>\n",
       "      <td>William</td>\n",
       "      <td>Powell</td>\n",
       "      <td>william.powell@datacourse.com</td>\n",
       "      <td>Male</td>\n",
       "      <td>46</td>\n",
       "      <td>Willow Run</td>\n",
       "      <td>IL</td>\n",
       "    </tr>\n",
       "    <tr>\n",
       "      <th>5113</th>\n",
       "      <td>6235356</td>\n",
       "      <td>21389386</td>\n",
       "      <td>Angela</td>\n",
       "      <td>Smith</td>\n",
       "      <td>angela.smith@datacourse.com</td>\n",
       "      <td>Female</td>\n",
       "      <td>67</td>\n",
       "      <td>Willow Run</td>\n",
       "      <td>IL</td>\n",
       "    </tr>\n",
       "    <tr>\n",
       "      <th>5114</th>\n",
       "      <td>6238072</td>\n",
       "      <td>21389337</td>\n",
       "      <td>Julia</td>\n",
       "      <td>Greene</td>\n",
       "      <td>julia.greene@datacourse.com</td>\n",
       "      <td>Female</td>\n",
       "      <td>63</td>\n",
       "      <td>Farmington Lake</td>\n",
       "      <td>OK</td>\n",
       "    </tr>\n",
       "    <tr>\n",
       "      <th>5115</th>\n",
       "      <td>6244400</td>\n",
       "      <td>21393929</td>\n",
       "      <td>Julian</td>\n",
       "      <td>Skinner</td>\n",
       "      <td>julian.skinner@datacourse.com</td>\n",
       "      <td>Male</td>\n",
       "      <td>52</td>\n",
       "      <td>Storms</td>\n",
       "      <td>TX</td>\n",
       "    </tr>\n",
       "    <tr>\n",
       "      <th>5116</th>\n",
       "      <td>6245605</td>\n",
       "      <td>21370227</td>\n",
       "      <td>Natalie</td>\n",
       "      <td>Hill</td>\n",
       "      <td>natalie.hill@datacourse.com</td>\n",
       "      <td>Female</td>\n",
       "      <td>18</td>\n",
       "      <td>Storms</td>\n",
       "      <td>TX</td>\n",
       "    </tr>\n",
       "  </tbody>\n",
       "</table>\n",
       "<p>5117 rows × 9 columns</p>\n",
       "</div>"
      ],
      "text/plain": [
       "      PatientID  PatientNumber FirstName  LastName  \\\n",
       "0       4691824       21385921      Paul      Hill   \n",
       "1       4691826       21388616     Sally    Bailey   \n",
       "2       4691864       21382372   Richard  Buckland   \n",
       "3       4691983       21372544      Matt     Welch   \n",
       "4       4692047       21385830       Zoe    Tucker   \n",
       "...         ...            ...       ...       ...   \n",
       "5112    6230138       21360210   William    Powell   \n",
       "5113    6235356       21389386    Angela     Smith   \n",
       "5114    6238072       21389337     Julia    Greene   \n",
       "5115    6244400       21393929    Julian   Skinner   \n",
       "5116    6245605       21370227   Natalie      Hill   \n",
       "\n",
       "                                Email PatientGender  PatientAge  \\\n",
       "0            paul.hill@datacourse.com          Male          67   \n",
       "1         sally.bailey@datacourse.com        Female          49   \n",
       "2     richard.buckland@datacourse.com          Male          74   \n",
       "3           matt.welch@datacourse.com          Male          80   \n",
       "4           zoe.tucker@datacourse.com        Female          16   \n",
       "...                               ...           ...         ...   \n",
       "5112    william.powell@datacourse.com          Male          46   \n",
       "5113      angela.smith@datacourse.com        Female          67   \n",
       "5114      julia.greene@datacourse.com        Female          63   \n",
       "5115    julian.skinner@datacourse.com          Male          52   \n",
       "5116      natalie.hill@datacourse.com        Female          18   \n",
       "\n",
       "                 City State  \n",
       "0            Longview    MA  \n",
       "1              Storms    TX  \n",
       "2             Emerson    MT  \n",
       "3     Farmington Lake    OK  \n",
       "4              Storms    TX  \n",
       "...               ...   ...  \n",
       "5112       Willow Run    IL  \n",
       "5113       Willow Run    IL  \n",
       "5114  Farmington Lake    OK  \n",
       "5115           Storms    TX  \n",
       "5116           Storms    TX  \n",
       "\n",
       "[5117 rows x 9 columns]"
      ]
     },
     "execution_count": 2,
     "metadata": {},
     "output_type": "execute_result"
    }
   ],
   "source": [
    "data = pd.read_csv(r'/Users/prasad/Downloads/archive/patients.csv')\n",
    "df = pd.DataFrame(data)\n",
    "df"
   ]
  },
  {
   "cell_type": "markdown",
   "id": "dae90fc3-a1d5-4fc7-8ad7-d49b3cf51ce6",
   "metadata": {},
   "source": [
    "# * DATA CLEANING & EXPLORATORY DATA ANALYSIS *"
   ]
  },
  {
   "cell_type": "code",
   "execution_count": 4,
   "id": "e6d81b76-ba1d-41bc-a0ac-2f64bed65082",
   "metadata": {},
   "outputs": [
    {
     "data": {
      "text/plain": [
       "(5117, 9)"
      ]
     },
     "execution_count": 4,
     "metadata": {},
     "output_type": "execute_result"
    }
   ],
   "source": [
    "df.shape"
   ]
  },
  {
   "cell_type": "markdown",
   "id": "b7d71a36-fc8d-4503-ae31-5197a24887b9",
   "metadata": {},
   "source": [
    "# Checking Duplicated Records"
   ]
  },
  {
   "cell_type": "code",
   "execution_count": 7,
   "id": "830773cb-4414-44bf-89ea-e5de5b1bd6a1",
   "metadata": {},
   "outputs": [
    {
     "data": {
      "text/plain": [
       "np.int64(0)"
      ]
     },
     "execution_count": 7,
     "metadata": {},
     "output_type": "execute_result"
    }
   ],
   "source": [
    "df['dimPatientPK'].duplicated().sum()"
   ]
  },
  {
   "cell_type": "code",
   "execution_count": 8,
   "id": "fd2c9ca6-8162-4831-9e20-3545667922a6",
   "metadata": {},
   "outputs": [
    {
     "data": {
      "text/plain": [
       "np.False_"
      ]
     },
     "execution_count": 8,
     "metadata": {},
     "output_type": "execute_result"
    }
   ],
   "source": [
    "df['dimPatientPK'].duplicated().any()"
   ]
  },
  {
   "cell_type": "code",
   "execution_count": 10,
   "id": "5f009e79-20e5-4cc3-9f9a-35131a054dab",
   "metadata": {},
   "outputs": [
    {
     "data": {
      "text/plain": [
       "np.int64(0)"
      ]
     },
     "execution_count": 10,
     "metadata": {},
     "output_type": "execute_result"
    }
   ],
   "source": [
    "df.duplicated().sum()"
   ]
  },
  {
   "cell_type": "markdown",
   "id": "e06d3274-43ab-40dc-887f-95df856e7828",
   "metadata": {},
   "source": [
    "# Checking NULL Records"
   ]
  },
  {
   "cell_type": "code",
   "execution_count": 17,
   "id": "4da84737-732c-47b7-8d77-a59ab075f62d",
   "metadata": {},
   "outputs": [
    {
     "data": {
      "text/plain": [
       "PatientID        0\n",
       "PatientNumber    0\n",
       "FirstName        0\n",
       "LastName         0\n",
       "Email            0\n",
       "PatientGender    0\n",
       "PatientAge       0\n",
       "City             0\n",
       "State            0\n",
       "dtype: int64"
      ]
     },
     "execution_count": 17,
     "metadata": {},
     "output_type": "execute_result"
    }
   ],
   "source": [
    "df.isnull().sum()"
   ]
  },
  {
   "cell_type": "code",
   "execution_count": 19,
   "id": "2c14e669-c52e-49c8-8f5e-7859e345729d",
   "metadata": {},
   "outputs": [
    {
     "name": "stdout",
     "output_type": "stream",
     "text": [
      "<class 'pandas.core.frame.DataFrame'>\n",
      "RangeIndex: 5117 entries, 0 to 5116\n",
      "Data columns (total 9 columns):\n",
      " #   Column         Non-Null Count  Dtype \n",
      "---  ------         --------------  ----- \n",
      " 0   PatientID      5117 non-null   int64 \n",
      " 1   PatientNumber  5117 non-null   int64 \n",
      " 2   FirstName      5117 non-null   object\n",
      " 3   LastName       5117 non-null   object\n",
      " 4   Email          5117 non-null   object\n",
      " 5   PatientGender  5117 non-null   object\n",
      " 6   PatientAge     5117 non-null   int64 \n",
      " 7   City           5117 non-null   object\n",
      " 8   State          5117 non-null   object\n",
      "dtypes: int64(3), object(6)\n",
      "memory usage: 359.9+ KB\n"
     ]
    }
   ],
   "source": [
    "df.info()"
   ]
  },
  {
   "cell_type": "code",
   "execution_count": null,
   "id": "a2528675-a3ef-4d2b-b09b-05c224a0ea95",
   "metadata": {},
   "outputs": [],
   "source": []
  },
  {
   "cell_type": "markdown",
   "id": "2ebc7986-9b97-4c1a-a239-f34901dfcfac",
   "metadata": {},
   "source": [
    "# * AGE DISTRIBUTION ANALYSIS *"
   ]
  },
  {
   "cell_type": "code",
   "execution_count": null,
   "id": "96a74859-d598-4d9d-949c-506390b386f7",
   "metadata": {},
   "outputs": [],
   "source": []
  },
  {
   "cell_type": "code",
   "execution_count": 6,
   "id": "45025955-6044-48b5-9a6a-eea9a9096004",
   "metadata": {},
   "outputs": [
    {
     "data": {
      "text/plain": [
       "count    5117.000000\n",
       "mean       44.355286\n",
       "std        26.023386\n",
       "min         0.000000\n",
       "25%        21.000000\n",
       "50%        44.000000\n",
       "75%        67.000000\n",
       "max        90.000000\n",
       "Name: PatientAge, dtype: float64"
      ]
     },
     "execution_count": 6,
     "metadata": {},
     "output_type": "execute_result"
    }
   ],
   "source": [
    "df['PatientAge'].describe()\n"
   ]
  },
  {
   "cell_type": "code",
   "execution_count": 10,
   "id": "163a061d-5901-4127-9bed-282e3035d830",
   "metadata": {},
   "outputs": [],
   "source": [
    "Q1 = df['PatientAge'].quantile(0.25)\n",
    "Q3 = df['PatientAge'].quantile(0.75)\n",
    "IQR = Q3 - Q1\n",
    "\n",
    "lower_bound = Q1 - 1.5 * IQR\n",
    "upper_bound = Q3 + 1.5 * IQR\n",
    "\n",
    "outliers = df[(df['PatientAge'] < lower_bound) | (df['PatientAge'] > upper_bound)]"
   ]
  },
  {
   "cell_type": "code",
   "execution_count": 11,
   "id": "64186840-e70b-4663-bf10-b673c43e3049",
   "metadata": {},
   "outputs": [
    {
     "data": {
      "image/png": "[encoded data removed]",
      "text/plain": [
       "<Figure size 1000x500 with 1 Axes>"
      ]
     },
     "metadata": {},
     "output_type": "display_data"
    }
   ],
   "source": [
    "import seaborn as sns\n",
    "import matplotlib.pyplot as plt\n",
    "\n",
    "plt.figure(figsize=(10, 5))\n",
    "sns.boxplot(x=df['PatientAge'], color='lightblue')\n",
    "plt.title('Boxplot of Patient Age')\n",
    "plt.xlabel('Age')\n",
    "plt.show()"
   ]
  },
  {
   "cell_type": "code",
   "execution_count": null,
   "id": "3c96b607-c6ae-472e-8acf-7ef61c0f1e63",
   "metadata": {},
   "outputs": [],
   "source": []
  },
  {
   "cell_type": "markdown",
   "id": "82617575-d396-4262-be04-ad6c8f57e27b",
   "metadata": {},
   "source": [
    "#  * # DEMOGRAPHIC ANALYSIS  *"
   ]
  },
  {
   "cell_type": "code",
   "execution_count": null,
   "id": "72bb3381-8ab6-4bca-860b-030b6202d55f",
   "metadata": {},
   "outputs": [],
   "source": []
  },
  {
   "cell_type": "markdown",
   "id": "e7ba538d-fbbf-4e82-8de8-b27bcc18efa3",
   "metadata": {},
   "source": [
    "# 1. Calculate the average age of patients by gender."
   ]
  },
  {
   "cell_type": "code",
   "execution_count": 27,
   "id": "a9df45c8-ddfa-47ff-a1ae-63bbc6e8c1b6",
   "metadata": {},
   "outputs": [
    {
     "data": {
      "text/html": [
       "<div>\n",
       "<style scoped>\n",
       "    .dataframe tbody tr th:only-of-type {\n",
       "        vertical-align: middle;\n",
       "    }\n",
       "\n",
       "    .dataframe tbody tr th {\n",
       "        vertical-align: top;\n",
       "    }\n",
       "\n",
       "    .dataframe thead th {\n",
       "        text-align: right;\n",
       "    }\n",
       "</style>\n",
       "<table border=\"1\" class=\"dataframe\">\n",
       "  <thead>\n",
       "    <tr style=\"text-align: right;\">\n",
       "      <th></th>\n",
       "      <th>PatientGender</th>\n",
       "      <th>PatientAge</th>\n",
       "    </tr>\n",
       "  </thead>\n",
       "  <tbody>\n",
       "    <tr>\n",
       "      <th>0</th>\n",
       "      <td>Female</td>\n",
       "      <td>44.406188</td>\n",
       "    </tr>\n",
       "    <tr>\n",
       "      <th>1</th>\n",
       "      <td>Male</td>\n",
       "      <td>44.282804</td>\n",
       "    </tr>\n",
       "  </tbody>\n",
       "</table>\n",
       "</div>"
      ],
      "text/plain": [
       "  PatientGender  PatientAge\n",
       "0        Female   44.406188\n",
       "1          Male   44.282804"
      ]
     },
     "execution_count": 27,
     "metadata": {},
     "output_type": "execute_result"
    }
   ],
   "source": [
    "grouped = df.groupby('PatientGender')['PatientAge'].mean().reset_index()\n",
    "grouped"
   ]
  },
  {
   "cell_type": "code",
   "execution_count": 33,
   "id": "97476c5c-f722-4140-8d84-cc5e7752e227",
   "metadata": {},
   "outputs": [
    {
     "data": {
      "image/png": "[encoded data removed]",
      "text/plain": [
       "<Figure size 1000x500 with 1 Axes>"
      ]
     },
     "metadata": {},
     "output_type": "display_data"
    }
   ],
   "source": [
    "# Create the pie chart\n",
    "plt.figure(figsize=(10, 5))  # Optional: Set figure size\n",
    "plt.pie(\n",
    "    grouped['PatientAge'],\n",
    "    labels=grouped['PatientGender'],\n",
    "    autopct='%1.2f%%',  # Show percentages with 1 decimal\n",
    "    startangle=90,       # Rotate pie to start at the top\n",
    "    colors=['lightcoral', 'skyblue'],  # Custom colors\n",
    "    shadow=True,         # Add shadow effect\n",
    "    explode=(0.05, 0)    # \"Explode\" slices slightly\n",
    ")\n",
    "\n",
    "# Add title and formatting\n",
    "plt.title('Average Patient Age Distribution by Gender', fontsize=14, pad=20)\n",
    "plt.axis('equal')  # Ensure pie is drawn as a circle\n",
    "\n",
    "# Show the plot\n",
    "plt.tight_layout()\n",
    "plt.show()"
   ]
  },
  {
   "cell_type": "markdown",
   "id": "6ffb2066-7a93-42f2-8ca8-be6d790536c9",
   "metadata": {},
   "source": [
    "# 2. Find the distribution of patients across different states (count per state)."
   ]
  },
  {
   "cell_type": "code",
   "execution_count": 35,
   "id": "049715d5-d4dc-421e-a69a-d6bf206b3f16",
   "metadata": {},
   "outputs": [
    {
     "data": {
      "text/html": [
       "<div>\n",
       "<style scoped>\n",
       "    .dataframe tbody tr th:only-of-type {\n",
       "        vertical-align: middle;\n",
       "    }\n",
       "\n",
       "    .dataframe tbody tr th {\n",
       "        vertical-align: top;\n",
       "    }\n",
       "\n",
       "    .dataframe thead th {\n",
       "        text-align: right;\n",
       "    }\n",
       "</style>\n",
       "<table border=\"1\" class=\"dataframe\">\n",
       "  <thead>\n",
       "    <tr style=\"text-align: right;\">\n",
       "      <th></th>\n",
       "      <th>State</th>\n",
       "      <th>count</th>\n",
       "    </tr>\n",
       "  </thead>\n",
       "  <tbody>\n",
       "    <tr>\n",
       "      <th>0</th>\n",
       "      <td>TX</td>\n",
       "      <td>946</td>\n",
       "    </tr>\n",
       "    <tr>\n",
       "      <th>1</th>\n",
       "      <td>MT</td>\n",
       "      <td>776</td>\n",
       "    </tr>\n",
       "    <tr>\n",
       "      <th>2</th>\n",
       "      <td>MA</td>\n",
       "      <td>592</td>\n",
       "    </tr>\n",
       "    <tr>\n",
       "      <th>3</th>\n",
       "      <td>IL</td>\n",
       "      <td>554</td>\n",
       "    </tr>\n",
       "    <tr>\n",
       "      <th>4</th>\n",
       "      <td>WV</td>\n",
       "      <td>488</td>\n",
       "    </tr>\n",
       "    <tr>\n",
       "      <th>5</th>\n",
       "      <td>PA</td>\n",
       "      <td>411</td>\n",
       "    </tr>\n",
       "    <tr>\n",
       "      <th>6</th>\n",
       "      <td>AL</td>\n",
       "      <td>354</td>\n",
       "    </tr>\n",
       "    <tr>\n",
       "      <th>7</th>\n",
       "      <td>MS</td>\n",
       "      <td>236</td>\n",
       "    </tr>\n",
       "    <tr>\n",
       "      <th>8</th>\n",
       "      <td>NY</td>\n",
       "      <td>232</td>\n",
       "    </tr>\n",
       "    <tr>\n",
       "      <th>9</th>\n",
       "      <td>OK</td>\n",
       "      <td>186</td>\n",
       "    </tr>\n",
       "    <tr>\n",
       "      <th>10</th>\n",
       "      <td>NH</td>\n",
       "      <td>103</td>\n",
       "    </tr>\n",
       "    <tr>\n",
       "      <th>11</th>\n",
       "      <td>ME</td>\n",
       "      <td>101</td>\n",
       "    </tr>\n",
       "    <tr>\n",
       "      <th>12</th>\n",
       "      <td>KS</td>\n",
       "      <td>56</td>\n",
       "    </tr>\n",
       "    <tr>\n",
       "      <th>13</th>\n",
       "      <td>AZ</td>\n",
       "      <td>49</td>\n",
       "    </tr>\n",
       "    <tr>\n",
       "      <th>14</th>\n",
       "      <td>IN</td>\n",
       "      <td>15</td>\n",
       "    </tr>\n",
       "    <tr>\n",
       "      <th>15</th>\n",
       "      <td>FL</td>\n",
       "      <td>12</td>\n",
       "    </tr>\n",
       "    <tr>\n",
       "      <th>16</th>\n",
       "      <td>IA</td>\n",
       "      <td>4</td>\n",
       "    </tr>\n",
       "    <tr>\n",
       "      <th>17</th>\n",
       "      <td>OH</td>\n",
       "      <td>2</td>\n",
       "    </tr>\n",
       "  </tbody>\n",
       "</table>\n",
       "</div>"
      ],
      "text/plain": [
       "   State  count\n",
       "0     TX    946\n",
       "1     MT    776\n",
       "2     MA    592\n",
       "3     IL    554\n",
       "4     WV    488\n",
       "5     PA    411\n",
       "6     AL    354\n",
       "7     MS    236\n",
       "8     NY    232\n",
       "9     OK    186\n",
       "10    NH    103\n",
       "11    ME    101\n",
       "12    KS     56\n",
       "13    AZ     49\n",
       "14    IN     15\n",
       "15    FL     12\n",
       "16    IA      4\n",
       "17    OH      2"
      ]
     },
     "execution_count": 35,
     "metadata": {},
     "output_type": "execute_result"
    }
   ],
   "source": [
    "# Get patient count per state (sorted)\n",
    "state_distribution = df['State'].value_counts().sort_values(ascending=False).reset_index()\n",
    "state_distribution\n"
   ]
  },
  {
   "cell_type": "code",
   "execution_count": 37,
   "id": "c3362bbc-2655-4a39-b9fb-a19d437d42de",
   "metadata": {},
   "outputs": [
    {
     "data": {
      "image/png": "[encoded data removed]",
      "text/plain": [
       "<Figure size 1000x600 with 1 Axes>"
      ]
     },
     "metadata": {},
     "output_type": "display_data"
    }
   ],
   "source": [
    "state_distribution = df['State'].value_counts().sort_values(ascending=False)\n",
    "# Create the bar plot\n",
    "plt.figure(figsize=(10, 6))\n",
    "bars = plt.bar(state_distribution.index, state_distribution.values, color='skyblue')\n",
    "\n",
    "# Add patient count labels on top of each bar\n",
    "for bar in bars:\n",
    "    height = bar.get_height()\n",
    "    plt.text(\n",
    "        bar.get_x() + bar.get_width() / 2,  # x-position (center of bar)\n",
    "        height + 1,                         # y-position (slightly above bar)\n",
    "        f'{int(height)}',                    # text (patient count)\n",
    "        ha='center',                         # horizontal alignment\n",
    "        va='bottom',                         # vertical alignment\n",
    "        fontsize=10\n",
    "    )\n",
    "\n",
    "#  Customize the plot\n",
    "plt.title('Patient Distribution by State', fontsize=14)\n",
    "plt.xlabel('State', fontsize=12)\n",
    "plt.ylabel('Number of Patients', fontsize=12)\n",
    "plt.xticks(rotation=45)  # Rotate state labels for readability\n",
    "plt.grid(axis='y', linestyle='--', alpha=0.7)\n",
    "\n",
    "# # Show the plot\n",
    "plt.tight_layout()  # Prevent label cutoff\n",
    "plt.show()"
   ]
  },
  {
   "cell_type": "markdown",
   "id": "284dc38a-61d2-44fe-8b89-1c7b512f652a",
   "metadata": {},
   "source": [
    "# 3. Identify the top 5 cities with the most patients"
   ]
  },
  {
   "cell_type": "code",
   "execution_count": 60,
   "id": "c4cd3586-d089-4ef6-b626-85867a543115",
   "metadata": {},
   "outputs": [
    {
     "data": {
      "text/html": [
       "<div>\n",
       "<style scoped>\n",
       "    .dataframe tbody tr th:only-of-type {\n",
       "        vertical-align: middle;\n",
       "    }\n",
       "\n",
       "    .dataframe tbody tr th {\n",
       "        vertical-align: top;\n",
       "    }\n",
       "\n",
       "    .dataframe thead th {\n",
       "        text-align: right;\n",
       "    }\n",
       "</style>\n",
       "<table border=\"1\" class=\"dataframe\">\n",
       "  <thead>\n",
       "    <tr style=\"text-align: right;\">\n",
       "      <th></th>\n",
       "      <th>City</th>\n",
       "      <th>Patient Count</th>\n",
       "    </tr>\n",
       "  </thead>\n",
       "  <tbody>\n",
       "    <tr>\n",
       "      <th>0</th>\n",
       "      <td>Emerson</td>\n",
       "      <td>749</td>\n",
       "    </tr>\n",
       "    <tr>\n",
       "      <th>1</th>\n",
       "      <td>Longview</td>\n",
       "      <td>588</td>\n",
       "    </tr>\n",
       "    <tr>\n",
       "      <th>2</th>\n",
       "      <td>Storms</td>\n",
       "      <td>563</td>\n",
       "    </tr>\n",
       "    <tr>\n",
       "      <th>3</th>\n",
       "      <td>Willow Run</td>\n",
       "      <td>554</td>\n",
       "    </tr>\n",
       "    <tr>\n",
       "      <th>4</th>\n",
       "      <td>West Point</td>\n",
       "      <td>411</td>\n",
       "    </tr>\n",
       "  </tbody>\n",
       "</table>\n",
       "</div>"
      ],
      "text/plain": [
       "         City  Patient Count\n",
       "0     Emerson            749\n",
       "1    Longview            588\n",
       "2      Storms            563\n",
       "3  Willow Run            554\n",
       "4  West Point            411"
      ]
     },
     "execution_count": 60,
     "metadata": {},
     "output_type": "execute_result"
    }
   ],
   "source": [
    "top_cities_df = df['City'].value_counts().head(5).reset_index()\n",
    "top_cities_df.columns = ['City', 'Patient Count']\n",
    "top_cities_df"
   ]
  },
  {
   "cell_type": "code",
   "execution_count": 65,
   "id": "af0bb63d-8d54-4530-a921-2e3556899059",
   "metadata": {},
   "outputs": [
    {
     "data": {
      "image/png": "[encoded data removed]",
      "text/plain": [
       "<Figure size 640x480 with 1 Axes>"
      ]
     },
     "metadata": {},
     "output_type": "display_data"
    }
   ],
   "source": [
    "import matplotlib.pyplot as plt\n",
    "\n",
    "bars= plt.bar(top_cities_df['City'],top_cities_df['Patient Count'], color='pink')\n",
    "\n",
    "# Add patient count labels on top of each bar\n",
    "for bar in bars:\n",
    "    height = bar.get_height()\n",
    "    plt.text(\n",
    "        bar.get_x() + bar.get_width() / 2,  # x-position (center of bar)\n",
    "        height + 1,                         # y-position (slightly above bar)\n",
    "        f'{int(height)}',                    # text (patient count)\n",
    "        ha='center',                         # horizontal alignment\n",
    "        va='bottom',                         # vertical alignment\n",
    "        fontsize=10\n",
    "    )\n",
    "    \n",
    "plt.title('Top 5 Cities by Patient Count')\n",
    "plt.xlabel('City')\n",
    "plt.ylabel('Number of Patients')\n",
    "\n",
    "\n",
    "\n",
    "plt.xticks(rotation=45)\n",
    "plt.tight_layout()\n",
    "plt.show()"
   ]
  },
  {
   "cell_type": "code",
   "execution_count": null,
   "id": "3c5caadd-92b2-4780-94e7-947e0a72f418",
   "metadata": {},
   "outputs": [],
   "source": []
  },
  {
   "cell_type": "markdown",
   "id": "ef229091-6a46-4660-aabf-e9f7d81943a9",
   "metadata": {},
   "source": [
    "# * AGE GROUP ANALYSIS *"
   ]
  },
  {
   "cell_type": "code",
   "execution_count": null,
   "id": "41dffeca-ea13-4178-96cb-dfb74730e742",
   "metadata": {},
   "outputs": [],
   "source": []
  },
  {
   "cell_type": "markdown",
   "id": "5b612cb2-1e57-49f1-9a93-9eeac21f2c3d",
   "metadata": {},
   "source": [
    "# 1. Categorize patients into age groups (e.g., 0-18, 19-35, 36-50, 51-65, 65+) and count the number of patients in each group."
   ]
  },
  {
   "cell_type": "code",
   "execution_count": 18,
   "id": "d3e652c7-ee31-40d5-a69e-50d097ad7bcc",
   "metadata": {},
   "outputs": [
    {
     "data": {
      "text/html": [
       "<div>\n",
       "<style scoped>\n",
       "    .dataframe tbody tr th:only-of-type {\n",
       "        vertical-align: middle;\n",
       "    }\n",
       "\n",
       "    .dataframe tbody tr th {\n",
       "        vertical-align: top;\n",
       "    }\n",
       "\n",
       "    .dataframe thead th {\n",
       "        text-align: right;\n",
       "    }\n",
       "</style>\n",
       "<table border=\"1\" class=\"dataframe\">\n",
       "  <thead>\n",
       "    <tr style=\"text-align: right;\">\n",
       "      <th></th>\n",
       "      <th>Age Criteria</th>\n",
       "      <th>No of Patients</th>\n",
       "    </tr>\n",
       "  </thead>\n",
       "  <tbody>\n",
       "    <tr>\n",
       "      <th>0</th>\n",
       "      <td>Oldest</td>\n",
       "      <td>1361</td>\n",
       "    </tr>\n",
       "    <tr>\n",
       "      <th>1</th>\n",
       "      <td>Young</td>\n",
       "      <td>1100</td>\n",
       "    </tr>\n",
       "    <tr>\n",
       "      <th>2</th>\n",
       "      <td>Adult</td>\n",
       "      <td>957</td>\n",
       "    </tr>\n",
       "    <tr>\n",
       "      <th>3</th>\n",
       "      <td>Getting Old</td>\n",
       "      <td>854</td>\n",
       "    </tr>\n",
       "    <tr>\n",
       "      <th>4</th>\n",
       "      <td>Old</td>\n",
       "      <td>845</td>\n",
       "    </tr>\n",
       "  </tbody>\n",
       "</table>\n",
       "</div>"
      ],
      "text/plain": [
       "  Age Criteria  No of Patients\n",
       "0       Oldest            1361\n",
       "1        Young            1100\n",
       "2        Adult             957\n",
       "3  Getting Old             854\n",
       "4          Old             845"
      ]
     },
     "execution_count": 18,
     "metadata": {},
     "output_type": "execute_result"
    }
   ],
   "source": [
    "import numpy as np\n",
    "\n",
    "conditions = [ \n",
    "    (df['PatientAge'] <= 18),\n",
    "    (df['PatientAge'] > 18) & (df['PatientAge'] <= 35),\n",
    "    (df['PatientAge'] > 35) & (df['PatientAge'] <= 50),\n",
    "    (df['PatientAge'] > 50) & (df['PatientAge'] <= 65),\n",
    "    (df['PatientAge'] > 65)\n",
    "]\n",
    "\n",
    "choices = ['Young', 'Adult', 'Getting Old', 'Old', 'Oldest']\n",
    "\n",
    "df['Age Criteria'] = np.select(conditions, choices, default='Unknown')\n",
    "df['Age Criteria'].reset_index()\n",
    "\n",
    "Criteria_wise_patients= df['Age Criteria'].value_counts().sort_values(ascending=False).reset_index()\n",
    "Criteria_wise_patients.columns = ['Age Criteria', 'No of Patients']\n",
    "Criteria_wise_patients\n"
   ]
  },
  {
   "cell_type": "code",
   "execution_count": 23,
   "id": "364a0460-884c-453b-8f49-25d63de55f4e",
   "metadata": {},
   "outputs": [
    {
     "data": {
      "image/png": "[encoded data removed]",
      "text/plain": [
       "<Figure size 1000x500 with 1 Axes>"
      ]
     },
     "metadata": {},
     "output_type": "display_data"
    }
   ],
   "source": [
    "plt.figure(figsize=(10,5))\n",
    "bars = plt.bar(Criteria_wise_patients['Age Criteria'],Criteria_wise_patients['No of Patients'], color= 'skyblue')\n",
    "\n",
    "for bar in bars:\n",
    "    height = bar.get_height()\n",
    "    plt.text(\n",
    "        bar.get_x() + bar.get_width() / 2,  # x-position (center of bar)\n",
    "        height + 1,                         # y-position (slightly above bar)\n",
    "        f'{int(height)}',                    # text (patient count)\n",
    "        ha='center',                         # horizontal alignment\n",
    "        va='bottom',                         # vertical alignment\n",
    "        fontsize=10\n",
    "    )\n",
    "    \n",
    "plt.title('Age Criteria wise Distribution')\n",
    "plt.xlabel('Criteria')\n",
    "plt.ylabel('Number of Patients')\n",
    "\n",
    "\n",
    "\n",
    "plt.xticks(rotation=45)\n",
    "\n",
    "plt.show()\n"
   ]
  },
  {
   "cell_type": "markdown",
   "id": "72c363d5-9a2e-4794-a13d-52975a7aa2df",
   "metadata": {},
   "source": [
    "# 2. Compare the gender distribution within each age group."
   ]
  },
  {
   "cell_type": "code",
   "execution_count": 33,
   "id": "d52bf369-b190-401f-8b6f-54eaaa234e88",
   "metadata": {},
   "outputs": [
    {
     "data": {
      "text/html": [
       "<div>\n",
       "<style scoped>\n",
       "    .dataframe tbody tr th:only-of-type {\n",
       "        vertical-align: middle;\n",
       "    }\n",
       "\n",
       "    .dataframe tbody tr th {\n",
       "        vertical-align: top;\n",
       "    }\n",
       "\n",
       "    .dataframe thead th {\n",
       "        text-align: right;\n",
       "    }\n",
       "</style>\n",
       "<table border=\"1\" class=\"dataframe\">\n",
       "  <thead>\n",
       "    <tr style=\"text-align: right;\">\n",
       "      <th></th>\n",
       "      <th>Age Criteria</th>\n",
       "      <th>PatientGender</th>\n",
       "      <th>CountGender</th>\n",
       "    </tr>\n",
       "  </thead>\n",
       "  <tbody>\n",
       "    <tr>\n",
       "      <th>0</th>\n",
       "      <td>Oldest</td>\n",
       "      <td>Female</td>\n",
       "      <td>803</td>\n",
       "    </tr>\n",
       "    <tr>\n",
       "      <th>1</th>\n",
       "      <td>Young</td>\n",
       "      <td>Female</td>\n",
       "      <td>640</td>\n",
       "    </tr>\n",
       "    <tr>\n",
       "      <th>2</th>\n",
       "      <td>Adult</td>\n",
       "      <td>Female</td>\n",
       "      <td>573</td>\n",
       "    </tr>\n",
       "    <tr>\n",
       "      <th>3</th>\n",
       "      <td>Oldest</td>\n",
       "      <td>Male</td>\n",
       "      <td>558</td>\n",
       "    </tr>\n",
       "    <tr>\n",
       "      <th>4</th>\n",
       "      <td>Getting Old</td>\n",
       "      <td>Female</td>\n",
       "      <td>508</td>\n",
       "    </tr>\n",
       "    <tr>\n",
       "      <th>5</th>\n",
       "      <td>Old</td>\n",
       "      <td>Female</td>\n",
       "      <td>482</td>\n",
       "    </tr>\n",
       "    <tr>\n",
       "      <th>6</th>\n",
       "      <td>Young</td>\n",
       "      <td>Male</td>\n",
       "      <td>460</td>\n",
       "    </tr>\n",
       "    <tr>\n",
       "      <th>7</th>\n",
       "      <td>Adult</td>\n",
       "      <td>Male</td>\n",
       "      <td>384</td>\n",
       "    </tr>\n",
       "    <tr>\n",
       "      <th>8</th>\n",
       "      <td>Old</td>\n",
       "      <td>Male</td>\n",
       "      <td>363</td>\n",
       "    </tr>\n",
       "    <tr>\n",
       "      <th>9</th>\n",
       "      <td>Getting Old</td>\n",
       "      <td>Male</td>\n",
       "      <td>346</td>\n",
       "    </tr>\n",
       "  </tbody>\n",
       "</table>\n",
       "</div>"
      ],
      "text/plain": [
       "  Age Criteria PatientGender  CountGender\n",
       "0       Oldest        Female          803\n",
       "1        Young        Female          640\n",
       "2        Adult        Female          573\n",
       "3       Oldest          Male          558\n",
       "4  Getting Old        Female          508\n",
       "5          Old        Female          482\n",
       "6        Young          Male          460\n",
       "7        Adult          Male          384\n",
       "8          Old          Male          363\n",
       "9  Getting Old          Male          346"
      ]
     },
     "execution_count": 33,
     "metadata": {},
     "output_type": "execute_result"
    }
   ],
   "source": [
    "Gender_Distribution = df[['Age Criteria','PatientGender']].value_counts().reset_index()\n",
    "Gender_Distribution.columns = ['Age Criteria','PatientGender', 'CountGender']\n",
    "Gender_Distribution"
   ]
  },
  {
   "cell_type": "code",
   "execution_count": 41,
   "id": "b7e96323-246a-4022-858e-798445cdbbb2",
   "metadata": {},
   "outputs": [
    {
     "data": {
      "image/png": "[encoded data removed]",
      "text/plain": [
       "<Figure size 1000x500 with 1 Axes>"
      ]
     },
     "metadata": {},
     "output_type": "display_data"
    }
   ],
   "source": [
    "plt.figure(figsize=(10,5))\n",
    "ax = sns.barplot(data= Gender_Distribution, x='Age Criteria', y='CountGender', hue='PatientGender')\n",
    "\n",
    "# Add value labels (aggregated means here)\n",
    "for container in ax.containers:\n",
    "    labels = [f'{v.get_height():.1f}' for v in container]\n",
    "    ax.bar_label(container, labels=labels, padding=3)\n",
    "\n",
    "\n",
    "plt.xlabel('Age Criteria')\n",
    "plt.ylabel('Count of Patient')\n",
    "\n",
    "plt.title(\"Gender Distribution within Age Group\")\n",
    "\n",
    "plt.show()"
   ]
  },
  {
   "cell_type": "code",
   "execution_count": null,
   "id": "2b2ef42c-0abc-4d97-b761-1c8292af3a6f",
   "metadata": {},
   "outputs": [],
   "source": []
  },
  {
   "cell_type": "markdown",
   "id": "65cb773c-d20d-4203-bd7c-3dba56debe01",
   "metadata": {},
   "source": [
    "# * EMAIL DOMAIN ANALYSIS *"
   ]
  },
  {
   "cell_type": "code",
   "execution_count": null,
   "id": "478f48c7-3a2b-4b3c-a4ae-9a1bd72fc0b5",
   "metadata": {},
   "outputs": [],
   "source": []
  },
  {
   "cell_type": "markdown",
   "id": "cdb2c849-9766-47f8-a945-9613226248db",
   "metadata": {},
   "source": [
    "# 1. Extract the domain from the email addresses (e.g., datacourse.com) and count how many patients use each domain."
   ]
  },
  {
   "cell_type": "code",
   "execution_count": 43,
   "id": "ce7220c0-fcb9-481c-b68b-4c8c8c6bde60",
   "metadata": {},
   "outputs": [
    {
     "data": {
      "text/html": [
       "<div>\n",
       "<style scoped>\n",
       "    .dataframe tbody tr th:only-of-type {\n",
       "        vertical-align: middle;\n",
       "    }\n",
       "\n",
       "    .dataframe tbody tr th {\n",
       "        vertical-align: top;\n",
       "    }\n",
       "\n",
       "    .dataframe thead th {\n",
       "        text-align: right;\n",
       "    }\n",
       "</style>\n",
       "<table border=\"1\" class=\"dataframe\">\n",
       "  <thead>\n",
       "    <tr style=\"text-align: right;\">\n",
       "      <th></th>\n",
       "      <th>Domain</th>\n",
       "      <th>PatientCount</th>\n",
       "    </tr>\n",
       "  </thead>\n",
       "  <tbody>\n",
       "    <tr>\n",
       "      <th>0</th>\n",
       "      <td>datacourse.com</td>\n",
       "      <td>5117</td>\n",
       "    </tr>\n",
       "  </tbody>\n",
       "</table>\n",
       "</div>"
      ],
      "text/plain": [
       "           Domain  PatientCount\n",
       "0  datacourse.com          5117"
      ]
     },
     "execution_count": 43,
     "metadata": {},
     "output_type": "execute_result"
    }
   ],
   "source": [
    "df['EmailDomain'] = df['Email'].str.split('@').str[1]\n",
    "\n",
    "# Count domains\n",
    "domain_counts = df['EmailDomain'].value_counts().reset_index()\n",
    "domain_counts.columns = ['Domain', 'PatientCount']\n",
    "domain_counts"
   ]
  },
  {
   "cell_type": "markdown",
   "id": "db23f441-99d0-43a5-a106-7d7f0c88d600",
   "metadata": {},
   "source": [
    "# 2. Are there any invalid or unusual email domains?"
   ]
  },
  {
   "cell_type": "code",
   "execution_count": 45,
   "id": "cc92af5c-bcf1-4f52-9e64-575d9c20feed",
   "metadata": {},
   "outputs": [
    {
     "name": "stdout",
     "output_type": "stream",
     "text": [
      "Found 0 invalid email formats:\n",
      "Empty DataFrame\n",
      "Columns: [PatientID, Email]\n",
      "Index: []\n",
      "\n",
      "Found 0 records with unusual domains:\n",
      "Empty DataFrame\n",
      "Columns: [PatientID, Email, Domain]\n",
      "Index: []\n"
     ]
    }
   ],
   "source": [
    "# 1. Extract domains\n",
    "df['Domain'] = df['Email'].str.extract(r'@([\\w.-]+)')\n",
    "\n",
    "# 2. Identify invalid emails (no @ or invalid format)\n",
    "invalid_emails = df[df['Email'].str.contains(r'^[^@]+@[^@]+\\.[^@]+$') == False]\n",
    "print(f\"Found {len(invalid_emails)} invalid email formats:\")\n",
    "print(invalid_emails[['PatientID', 'Email']])\n",
    "\n",
    "# 3. Find unusual domains (appearing less than 5 times)\n",
    "domain_counts = df['Domain'].value_counts()\n",
    "unusual_domains = domain_counts[domain_counts < 5].index.tolist()\n",
    "\n",
    "unusual_records = df[df['Domain'].isin(unusual_domains)]\n",
    "print(f\"\\nFound {len(unusual_records)} records with unusual domains:\")\n",
    "print(unusual_records[['PatientID', 'Email', 'Domain']])"
   ]
  },
  {
   "cell_type": "code",
   "execution_count": null,
   "id": "7fb82aea-0475-4151-8f12-f666c0427d0f",
   "metadata": {},
   "outputs": [],
   "source": []
  },
  {
   "cell_type": "markdown",
   "id": "8b1f63ae-3419-4d3e-9418-cd58fe1c4364",
   "metadata": {},
   "source": [
    "# * STATE AND CITY ANALYSIS *\n"
   ]
  },
  {
   "cell_type": "code",
   "execution_count": null,
   "id": "1131c523-c942-4b1d-8da2-6441e75fab45",
   "metadata": {},
   "outputs": [],
   "source": []
  },
  {
   "cell_type": "markdown",
   "id": "61db69b8-b3ab-4b63-83ec-3d619033ae6a",
   "metadata": {},
   "source": [
    "# 1. Which state has the highest number of patients?"
   ]
  },
  {
   "cell_type": "code",
   "execution_count": 55,
   "id": "234df525-5555-435b-a782-d806501fdfce",
   "metadata": {},
   "outputs": [
    {
     "data": {
      "text/html": [
       "<div>\n",
       "<style scoped>\n",
       "    .dataframe tbody tr th:only-of-type {\n",
       "        vertical-align: middle;\n",
       "    }\n",
       "\n",
       "    .dataframe tbody tr th {\n",
       "        vertical-align: top;\n",
       "    }\n",
       "\n",
       "    .dataframe thead th {\n",
       "        text-align: right;\n",
       "    }\n",
       "</style>\n",
       "<table border=\"1\" class=\"dataframe\">\n",
       "  <thead>\n",
       "    <tr style=\"text-align: right;\">\n",
       "      <th></th>\n",
       "      <th>State</th>\n",
       "      <th>PatientCount</th>\n",
       "    </tr>\n",
       "  </thead>\n",
       "  <tbody>\n",
       "    <tr>\n",
       "      <th>0</th>\n",
       "      <td>TX</td>\n",
       "      <td>945</td>\n",
       "    </tr>\n",
       "    <tr>\n",
       "      <th>1</th>\n",
       "      <td>MT</td>\n",
       "      <td>776</td>\n",
       "    </tr>\n",
       "    <tr>\n",
       "      <th>2</th>\n",
       "      <td>MA</td>\n",
       "      <td>592</td>\n",
       "    </tr>\n",
       "    <tr>\n",
       "      <th>3</th>\n",
       "      <td>IL</td>\n",
       "      <td>554</td>\n",
       "    </tr>\n",
       "    <tr>\n",
       "      <th>4</th>\n",
       "      <td>WV</td>\n",
       "      <td>488</td>\n",
       "    </tr>\n",
       "  </tbody>\n",
       "</table>\n",
       "</div>"
      ],
      "text/plain": [
       "  State  PatientCount\n",
       "0    TX           945\n",
       "1    MT           776\n",
       "2    MA           592\n",
       "3    IL           554\n",
       "4    WV           488"
      ]
     },
     "execution_count": 55,
     "metadata": {},
     "output_type": "execute_result"
    }
   ],
   "source": [
    "x = df['State'].value_counts().reset_index().head(5)\n",
    "x.columns = ['State','PatientCount']\n",
    "x"
   ]
  },
  {
   "cell_type": "code",
   "execution_count": 59,
   "id": "114f761a-e69f-4742-a69b-bf1a3028b253",
   "metadata": {},
   "outputs": [
    {
     "data": {
      "image/png": "[encoded data removed]",
      "text/plain": [
       "<Figure size 1000x500 with 1 Axes>"
      ]
     },
     "metadata": {},
     "output_type": "display_data"
    }
   ],
   "source": [
    "conditions = [ \n",
    "    (x['State'] == 'TX'),\n",
    "    (x['State'] == 'MT'),\n",
    "    (x['State'] == 'MA'),\n",
    "    (x['State'] =='IL'),\n",
    "    (x['State'] == 'WV')\n",
    "]\n",
    "\n",
    "choices = ['Texas', 'Montana', 'Massachusetts', 'Illinoi', 'Washington']\n",
    "\n",
    "x['State'] = np.select(conditions, choices, default='Unknown')\n",
    "x['State'].reset_index()\n",
    "\n",
    "plt.figure(figsize=(10,5))\n",
    "bars = plt.bar(x['State'],x['PatientCount'],color='orange')\n",
    "\n",
    "for bar in bars:\n",
    "    height = bar.get_height()\n",
    "    plt.text(\n",
    "        bar.get_x() + bar.get_width() / 2,  # x-position (center of bar)\n",
    "        height + 1,                         # y-position (slightly above bar)\n",
    "        f'{int(height)}',                    # text (patient count)\n",
    "        ha='center',                         # horizontal alignment\n",
    "        va='bottom',                         # vertical alignment\n",
    "        fontsize=10\n",
    "    )\n",
    "    \n",
    "plt.title('State wise Patient Count')\n",
    "plt.xlabel('States')\n",
    "plt.ylabel('Number of Patients')\n",
    "\n",
    "plt.show()"
   ]
  },
  {
   "cell_type": "markdown",
   "id": "9b06a9d5-06e8-45f1-82c2-ae7d720a63a0",
   "metadata": {},
   "source": [
    "# 2. For the state with the most patients, what is the most common city?"
   ]
  },
  {
   "cell_type": "code",
   "execution_count": 75,
   "id": "8a3d5187-ff47-4522-8b8f-9ee3680d4e4d",
   "metadata": {},
   "outputs": [
    {
     "data": {
      "text/html": [
       "<div>\n",
       "<style scoped>\n",
       "    .dataframe tbody tr th:only-of-type {\n",
       "        vertical-align: middle;\n",
       "    }\n",
       "\n",
       "    .dataframe tbody tr th {\n",
       "        vertical-align: top;\n",
       "    }\n",
       "\n",
       "    .dataframe thead th {\n",
       "        text-align: right;\n",
       "    }\n",
       "</style>\n",
       "<table border=\"1\" class=\"dataframe\">\n",
       "  <thead>\n",
       "    <tr style=\"text-align: right;\">\n",
       "      <th></th>\n",
       "      <th>City</th>\n",
       "      <th>count</th>\n",
       "    </tr>\n",
       "  </thead>\n",
       "  <tbody>\n",
       "    <tr>\n",
       "      <th>0</th>\n",
       "      <td>Storms</td>\n",
       "      <td>562</td>\n",
       "    </tr>\n",
       "    <tr>\n",
       "      <th>1</th>\n",
       "      <td>Mittenlane</td>\n",
       "      <td>249</td>\n",
       "    </tr>\n",
       "    <tr>\n",
       "      <th>2</th>\n",
       "      <td>Martins Corner</td>\n",
       "      <td>134</td>\n",
       "    </tr>\n",
       "  </tbody>\n",
       "</table>\n",
       "</div>"
      ],
      "text/plain": [
       "             City  count\n",
       "0          Storms    562\n",
       "1      Mittenlane    249\n",
       "2  Martins Corner    134"
      ]
     },
     "execution_count": 75,
     "metadata": {},
     "output_type": "execute_result"
    }
   ],
   "source": [
    "# From above example we have know that 'TX' is the state has most no of patient so we are not taking any other\n",
    "# state into consideration that 'TX'.\n",
    "\n",
    "TexasCity_PatientCount = df[df['State'] == 'TX']['City'].value_counts().reset_index()\n",
    "TexasCity_PatientCount"
   ]
  },
  {
   "cell_type": "code",
   "execution_count": null,
   "id": "dee2d8d4-083c-42bd-b83f-56ce75bacf22",
   "metadata": {},
   "outputs": [],
   "source": []
  },
  {
   "cell_type": "markdown",
   "id": "f8c8786c-99d4-483f-acb4-b8ebde1f4e86",
   "metadata": {},
   "source": [
    "# * DUPLICATE OR UNIQUE PATIENT ANALYSIS *\n"
   ]
  },
  {
   "cell_type": "code",
   "execution_count": null,
   "id": "13f5b2b5-d5df-47c3-9a3f-e16f331cec04",
   "metadata": {},
   "outputs": [],
   "source": []
  },
  {
   "cell_type": "markdown",
   "id": "4b3c2763-62ec-4f17-abc5-92482f7bf8ea",
   "metadata": {},
   "source": [
    "# 1. Check if there are any duplicate PatientID or PatientNumber entries."
   ]
  },
  {
   "cell_type": "code",
   "execution_count": 82,
   "id": "2f2a9cb0-eadf-4084-bdbe-350223ca8cac",
   "metadata": {},
   "outputs": [
    {
     "name": "stdout",
     "output_type": "stream",
     "text": [
      "Number of duplicate IDs are 0\n"
     ]
    }
   ],
   "source": [
    "duplicateID = df['PatientID'].duplicated().sum()\n",
    "print(f\"Number of duplicate IDs are {duplicateID}\")"
   ]
  },
  {
   "cell_type": "code",
   "execution_count": 86,
   "id": "3b00736b-15b9-48d4-bf99-638d5bc4da43",
   "metadata": {},
   "outputs": [
    {
     "name": "stdout",
     "output_type": "stream",
     "text": [
      "Number of duplicate Numbers are 155\n"
     ]
    }
   ],
   "source": [
    "duplicateNumbers = df['PatientNumber'].duplicated().sum()\n",
    "duplicateNumbers\n",
    "print(f\"Number of duplicate Numbers are {duplicateNumbers}\")\n"
   ]
  },
  {
   "cell_type": "markdown",
   "id": "92c20d0b-2921-4c23-b28f-239307dd05bb",
   "metadata": {},
   "source": [
    "# 2.  Are there patients with the same first and last name? If so, how many?"
   ]
  },
  {
   "cell_type": "code",
   "execution_count": 9,
   "id": "3c2d3d1f-8ea1-4943-8a2a-5e6b6c9a42b3",
   "metadata": {},
   "outputs": [
    {
     "name": "stdout",
     "output_type": "stream",
     "text": [
      "151\n"
     ]
    }
   ],
   "source": [
    "# Group by first and last name and count occurrences\n",
    "# groupby + size() is used to count how many patients have the same first_name and last_name\n",
    "name_counts = df.groupby(['FirstName', 'LastName']).size().reset_index(name='count')\n",
    "\n",
    "# Filter where count > 1 to get duplicates\n",
    "duplicate_names = name_counts[name_counts['count'] > 1]\n",
    "\n",
    "# Number of duplicate name combinations\n",
    "duplicate_name_count = len(duplicate_names)\n",
    "\n",
    "print(duplicate_name_count)"
   ]
  },
  {
   "cell_type": "code",
   "execution_count": null,
   "id": "b0a5d5df-b8f8-498f-ac99-7b2eb92bf07c",
   "metadata": {},
   "outputs": [],
   "source": []
  },
  {
   "cell_type": "markdown",
   "id": "ddab5530-45a0-4775-9320-c1811bd9e7f2",
   "metadata": {},
   "source": [
    "# * AGE & GENDER CORRELATION ANALYSIS *"
   ]
  },
  {
   "cell_type": "code",
   "execution_count": null,
   "id": "85322784-74b8-4625-9e43-a97f9cc9646a",
   "metadata": {},
   "outputs": [],
   "source": []
  },
  {
   "cell_type": "markdown",
   "id": "a540cdc0-5d7f-49d8-ace0-35d26ae79c13",
   "metadata": {},
   "source": [
    "# 1. Is there a correlation between age and gender in this dataset?(e.g., are females generally older than males?)"
   ]
  },
  {
   "cell_type": "code",
   "execution_count": 36,
   "id": "cb56d48d-169b-4ccb-963f-6c1eb6f660d5",
   "metadata": {},
   "outputs": [
    {
     "name": "stdout",
     "output_type": "stream",
     "text": [
      "  PatientGender  Average Age  Count\n",
      "0        Female    44.406188   3006\n",
      "1          Male    44.282804   2111\n",
      "By above statistics we can say that No of Female patients are higher than Male. Also Females are slightly older than Male.\n"
     ]
    },
    {
     "data": {
      "image/png": "[encoded data removed]",
      "text/plain": [
       "<Figure size 640x480 with 1 Axes>"
      ]
     },
     "metadata": {},
     "output_type": "display_data"
    }
   ],
   "source": [
    "average_age_by_gender = df.groupby('PatientGender')['PatientAge'].agg(['mean', 'count']).reset_index()\n",
    "average_age_by_gender.columns = ['PatientGender','Average Age','Count']\n",
    "print(average_age_by_gender)\n",
    "print(f\"By above statistics we can say that No of Female patients are higher than Male. Also Females are slightly older than Male.\")\n",
    "\n",
    "\n",
    "sns.boxplot(data= df,x='PatientGender', y='PatientAge')\n",
    "plt.title(\"Age Distribution by Gender\")\n",
    "plt.show()"
   ]
  },
  {
   "cell_type": "markdown",
   "id": "8fbd24e1-1c49-4acf-9ee9-b5281da32338",
   "metadata": {},
   "source": [
    "# 2. How many patients are under 18 years old?"
   ]
  },
  {
   "cell_type": "code",
   "execution_count": 46,
   "id": "32d6103f-9041-4b3a-b0e1-3c78e614387d",
   "metadata": {},
   "outputs": [
    {
     "name": "stdout",
     "output_type": "stream",
     "text": [
      "Number of patients under 18: 1049\n"
     ]
    }
   ],
   "source": [
    "under_18 = df[df['PatientAge'] < 18]\n",
    "under_18\n",
    "num_under_18 = len(under_18)\n",
    "print(f\"Number of patients under 18: {num_under_18}\")"
   ]
  },
  {
   "cell_type": "markdown",
   "id": "f290ce0a-329a-4be5-872b-f53eeb9d2e59",
   "metadata": {},
   "source": [
    "# 3. How many patients are above 65 years old?"
   ]
  },
  {
   "cell_type": "code",
   "execution_count": 47,
   "id": "85c9690f-7a2c-4a5b-a0af-da0f0eefe39d",
   "metadata": {},
   "outputs": [
    {
     "name": "stdout",
     "output_type": "stream",
     "text": [
      "Number of patients above 65: 1361\n"
     ]
    }
   ],
   "source": [
    "age_above = df[df['PatientAge']>65]\n",
    "age_above\n",
    "new_age_above = len(age_above)\n",
    "print(f\"Number of patients above 65: {new_age_above}\")"
   ]
  },
  {
   "cell_type": "code",
   "execution_count": null,
   "id": "07f905ff-f0c2-48d0-ad8c-cfbd8f9425f2",
   "metadata": {},
   "outputs": [],
   "source": []
  },
  {
   "cell_type": "markdown",
   "id": "58e1c753-bdde-4db2-bea0-ce95341d164f",
   "metadata": {},
   "source": [
    "# * NAME ANALYSIS *"
   ]
  },
  {
   "cell_type": "code",
   "execution_count": null,
   "id": "58189aba-b607-4468-a3ef-3b227a49f3a1",
   "metadata": {},
   "outputs": [],
   "source": []
  },
  {
   "cell_type": "markdown",
   "id": "5e748fbe-e3a4-4e1a-8170-654c4ed74282",
   "metadata": {},
   "source": [
    "# 1. What are the top 5 most common first names?"
   ]
  },
  {
   "cell_type": "code",
   "execution_count": 51,
   "id": "b6227b50-dc3b-439c-8e24-7deddac43184",
   "metadata": {},
   "outputs": [
    {
     "data": {
      "text/html": [
       "<div>\n",
       "<style scoped>\n",
       "    .dataframe tbody tr th:only-of-type {\n",
       "        vertical-align: middle;\n",
       "    }\n",
       "\n",
       "    .dataframe tbody tr th {\n",
       "        vertical-align: top;\n",
       "    }\n",
       "\n",
       "    .dataframe thead th {\n",
       "        text-align: right;\n",
       "    }\n",
       "</style>\n",
       "<table border=\"1\" class=\"dataframe\">\n",
       "  <thead>\n",
       "    <tr style=\"text-align: right;\">\n",
       "      <th></th>\n",
       "      <th>FirstName</th>\n",
       "      <th>Count</th>\n",
       "    </tr>\n",
       "  </thead>\n",
       "  <tbody>\n",
       "    <tr>\n",
       "      <th>0</th>\n",
       "      <td>Joanne</td>\n",
       "      <td>48</td>\n",
       "    </tr>\n",
       "    <tr>\n",
       "      <th>1</th>\n",
       "      <td>Gabrielle</td>\n",
       "      <td>46</td>\n",
       "    </tr>\n",
       "    <tr>\n",
       "      <th>2</th>\n",
       "      <td>Nicola</td>\n",
       "      <td>45</td>\n",
       "    </tr>\n",
       "    <tr>\n",
       "      <th>3</th>\n",
       "      <td>Megan</td>\n",
       "      <td>44</td>\n",
       "    </tr>\n",
       "    <tr>\n",
       "      <th>4</th>\n",
       "      <td>Lisa</td>\n",
       "      <td>43</td>\n",
       "    </tr>\n",
       "  </tbody>\n",
       "</table>\n",
       "</div>"
      ],
      "text/plain": [
       "   FirstName  Count\n",
       "0     Joanne     48\n",
       "1  Gabrielle     46\n",
       "2     Nicola     45\n",
       "3      Megan     44\n",
       "4       Lisa     43"
      ]
     },
     "execution_count": 51,
     "metadata": {},
     "output_type": "execute_result"
    }
   ],
   "source": [
    "common_firstname= df['FirstName'].value_counts().reset_index().head(5)\n",
    "common_firstname.columns = ['FirstName', 'Count']\n",
    "common_firstname"
   ]
  },
  {
   "cell_type": "code",
   "execution_count": 62,
   "id": "6a6aada2-07a5-42a0-a1c6-9e2d1717c8c9",
   "metadata": {},
   "outputs": [
    {
     "data": {
      "image/png": "[encoded data removed]",
      "text/plain": [
       "<Figure size 1000x500 with 1 Axes>"
      ]
     },
     "metadata": {},
     "output_type": "display_data"
    }
   ],
   "source": [
    "plt.figure(figsize=(10,5))\n",
    "bars= plt.bar(common_firstname['FirstName'], common_firstname['Count'], color='skyblue')\n",
    "\n",
    "for bar in bars:\n",
    "    height = bar.get_height()\n",
    "    plt.text(\n",
    "        bar.get_x() + bar.get_width() / 2,  # x-position (center of bar)\n",
    "        height + 1,                         # y-position (slightly above bar)\n",
    "        f'{int(height)}',                    # text (patient count)\n",
    "        ha='center',                         # horizontal alignment\n",
    "        va='bottom',                         # vertical alignment\n",
    "        fontsize=10\n",
    "    )\n",
    "    \n",
    "plt.title('Common First Names')\n",
    "plt.xlabel('First Names')\n",
    "plt.ylabel('No of Time it has appeard')\n",
    "plt.xticks(rotation= 45)\n",
    "\n",
    "plt.show()"
   ]
  },
  {
   "cell_type": "markdown",
   "id": "f4efdf1c-c6e0-4769-915c-14711b91a855",
   "metadata": {},
   "source": [
    "# 2. What are the top 5 most common last names?"
   ]
  },
  {
   "cell_type": "code",
   "execution_count": 66,
   "id": "8a604966-4630-4fd0-a046-1d6dad608c11",
   "metadata": {},
   "outputs": [
    {
     "data": {
      "text/html": [
       "<div>\n",
       "<style scoped>\n",
       "    .dataframe tbody tr th:only-of-type {\n",
       "        vertical-align: middle;\n",
       "    }\n",
       "\n",
       "    .dataframe tbody tr th {\n",
       "        vertical-align: top;\n",
       "    }\n",
       "\n",
       "    .dataframe thead th {\n",
       "        text-align: right;\n",
       "    }\n",
       "</style>\n",
       "<table border=\"1\" class=\"dataframe\">\n",
       "  <thead>\n",
       "    <tr style=\"text-align: right;\">\n",
       "      <th></th>\n",
       "      <th>LastName</th>\n",
       "      <th>Count</th>\n",
       "    </tr>\n",
       "  </thead>\n",
       "  <tbody>\n",
       "    <tr>\n",
       "      <th>0</th>\n",
       "      <td>Smith</td>\n",
       "      <td>51</td>\n",
       "    </tr>\n",
       "    <tr>\n",
       "      <th>1</th>\n",
       "      <td>Ince</td>\n",
       "      <td>48</td>\n",
       "    </tr>\n",
       "    <tr>\n",
       "      <th>2</th>\n",
       "      <td>Vance</td>\n",
       "      <td>47</td>\n",
       "    </tr>\n",
       "    <tr>\n",
       "      <th>3</th>\n",
       "      <td>Metcalfe</td>\n",
       "      <td>44</td>\n",
       "    </tr>\n",
       "    <tr>\n",
       "      <th>4</th>\n",
       "      <td>Clark</td>\n",
       "      <td>44</td>\n",
       "    </tr>\n",
       "  </tbody>\n",
       "</table>\n",
       "</div>"
      ],
      "text/plain": [
       "   LastName  Count\n",
       "0     Smith     51\n",
       "1      Ince     48\n",
       "2     Vance     47\n",
       "3  Metcalfe     44\n",
       "4     Clark     44"
      ]
     },
     "execution_count": 66,
     "metadata": {},
     "output_type": "execute_result"
    }
   ],
   "source": [
    "common_last_names = df['LastName'].value_counts().reset_index().head(5)\n",
    "common_last_names.columns = ['LastName','Count']\n",
    "common_last_names"
   ]
  },
  {
   "cell_type": "code",
   "execution_count": 68,
   "id": "50797121-121e-4033-a107-06808b2bf2ab",
   "metadata": {},
   "outputs": [
    {
     "data": {
      "image/png": "[encoded data removed]",
      "text/plain": [
       "<Figure size 1000x500 with 1 Axes>"
      ]
     },
     "metadata": {},
     "output_type": "display_data"
    }
   ],
   "source": [
    "plt.figure(figsize=(10,5))\n",
    "bars= plt.bar(common_last_names['LastName'], common_last_names['Count'], color='orange')\n",
    "\n",
    "for bar in bars:\n",
    "    height = bar.get_height()\n",
    "    plt.text(\n",
    "        bar.get_x() + bar.get_width() / 2,  # x-position (center of bar)\n",
    "        height + 1,                         # y-position (slightly above bar)\n",
    "        f'{int(height)}',                    # text (patient count)\n",
    "        ha='center',                         # horizontal alignment\n",
    "        va='bottom',                         # vertical alignment\n",
    "        fontsize=10\n",
    "    )\n",
    "    \n",
    "plt.title('Common Last Names')\n",
    "plt.xlabel('Last Names')\n",
    "plt.ylabel('No of Time it has appeard')\n",
    "plt.xticks(rotation= 45)\n",
    "\n",
    "plt.show()"
   ]
  },
  {
   "cell_type": "code",
   "execution_count": null,
   "id": "b78623f3-add2-42a5-959d-c5b846f6d32e",
   "metadata": {},
   "outputs": [],
   "source": []
  }
 ],
 "metadata": {
  "kernelspec": {
   "display_name": "Python 3 (ipykernel)",
   "language": "python",
   "name": "python3"
  },
  "language_info": {
   "codemirror_mode": {
    "name": "ipython",
    "version": 3
   },
   "file_extension": ".py",
   "mimetype": "text/x-python",
   "name": "python",
   "nbconvert_exporter": "python",
   "pygments_lexer": "ipython3",
   "version": "3.13.2"
  }
 },
 "nbformat": 4,
 "nbformat_minor": 5
}
